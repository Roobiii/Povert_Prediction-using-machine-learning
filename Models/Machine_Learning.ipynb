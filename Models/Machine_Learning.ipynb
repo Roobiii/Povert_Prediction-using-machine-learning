{
 "cells": [
  {
   "cell_type": "markdown",
   "metadata": {},
   "source": [
    "# Machine Learning Models for Predicting poverty levels\n",
    "Author - Prajakta Gaydhani"
   ]
  },
  {
   "cell_type": "code",
   "execution_count": 1,
   "metadata": {},
   "outputs": [],
   "source": [
    "import pandas as pd\n",
    "import numpy as np\n",
    "import matplotlib.pyplot as plt    #for plotting graphs\n",
    "import seaborn as sns              #for plotting graphs\n",
    "\n",
    "from sklearn.pipeline import Pipeline             #imports a pipeline \n",
    "from sklearn.preprocessing import Imputer         #imputes missing values\n",
    "from sklearn.preprocessing import StandardScaler  #normalized the data\n",
    "from sklearn.decomposition import PCA             #import PCA for feature reduction\n",
    "\n",
    "from sklearn.model_selection import train_test_split   #for splitting data in train and test set\n",
    "from imblearn.under_sampling import RandomUnderSampler  #import undersampling technique under imblearn package\n",
    "from imblearn.over_sampling import SMOTE               #import SMOTE technique under imblearn package\n",
    "from sklearn.model_selection import GridSearchCV       #import grodsearchcv for finding most optimal hyper-parameters\n",
    "\n",
    "from sklearn.naive_bayes import BernoulliNB                     #imports Naive Bayes \n",
    "from sklearn.naive_bayes import GaussianNB\n",
    "from sklearn.ensemble import RandomForestClassifier              #imports random forest classifier \n",
    "from sklearn.svm import LinearSVC                                #imports SVM\n",
    "\n",
    "from sklearn.metrics import accuracy_score    #import accuracy\n",
    "from sklearn.metrics import f1_score    #f1 score\n",
    "\n",
    "\n",
    "#%matplotlib inline                 #inline plotiing\n",
    "import warnings\n",
    "warnings.filterwarnings(\"ignore\")"
   ]
  },
  {
   "cell_type": "markdown",
   "metadata": {},
   "source": [
    "# 1.  Read poverty data"
   ]
  },
  {
   "cell_type": "code",
   "execution_count": 2,
   "metadata": {},
   "outputs": [
    {
     "data": {
      "text/plain": [
       "(9534, 120)"
      ]
     },
     "execution_count": 2,
     "metadata": {},
     "output_type": "execute_result"
    }
   ],
   "source": [
    "#read data\n",
    "data = pd.read_csv(\"final_cleaned_v1.csv\")\n",
    "data.shape"
   ]
  },
  {
   "cell_type": "markdown",
   "metadata": {},
   "source": [
    "# 2. Drop Columns having > 0.95 correlation"
   ]
  },
  {
   "cell_type": "code",
   "execution_count": 3,
   "metadata": {},
   "outputs": [],
   "source": [
    "#drop features having > 0.95 corr\n",
    "data.drop(columns = [\"walls\", \"roofs\", \"floor\", \"v18q1\", \"escolari/age\", \"escolari\"], inplace = True)"
   ]
  },
  {
   "cell_type": "code",
   "execution_count": 4,
   "metadata": {},
   "outputs": [
    {
     "data": {
      "text/plain": [
       "(9534, 114)"
      ]
     },
     "execution_count": 4,
     "metadata": {},
     "output_type": "execute_result"
    }
   ],
   "source": [
    "data.shape"
   ]
  },
  {
   "cell_type": "markdown",
   "metadata": {},
   "source": [
    "# 3. Impute missing values and rescale the dataset"
   ]
  },
  {
   "cell_type": "code",
   "execution_count": 5,
   "metadata": {},
   "outputs": [],
   "source": [
    "#Normalized the dataset\n",
    "def normalized_impute_missing(data):\n",
    "    #Pipeline : Sequentially apply a list of transforms \n",
    "    #Fill the missing values using median\n",
    "    # Normalize the data mean = 0 and variance = 1\n",
    "    pipeline = Pipeline([('imputer', Imputer(strategy = 'median')), ('scaler', StandardScaler())])\n",
    "    \n",
    "    Target = data['Target_x']  #stores the target variable\n",
    "    features = data.iloc[ : , 1:]  #stores all the features\n",
    "\n",
    "    #apply the pipeline functions to the data\n",
    "    transformed_data = pd.DataFrame(pipeline.fit_transform(features), columns=features.columns) \n",
    "    return transformed_data\n",
    "    \n",
    "transformed_data = normalized_impute_missing(data)"
   ]
  },
  {
   "cell_type": "code",
   "execution_count": 6,
   "metadata": {},
   "outputs": [],
   "source": [
    "#separate target from features\n",
    "features = transformed_data\n",
    "target  = data['Target_x']"
   ]
  },
  {
   "cell_type": "markdown",
   "metadata": {},
   "source": [
    "# 4. Check for the target class distribution "
   ]
  },
  {
   "cell_type": "code",
   "execution_count": 8,
   "metadata": {},
   "outputs": [
    {
     "data": {
      "image/png": "[encoded data removed]",
      "text/plain": [
       "<Figure size 1008x432 with 1 Axes>"
      ]
     },
     "metadata": {},
     "output_type": "display_data"
    }
   ],
   "source": [
    "#check the target distribution\n",
    "def target_distribution(target):\n",
    "    #plot the frequency plot\n",
    "    count_class = pd.value_counts(target)\n",
    "    count_class.plot(kind = \"bar\", color = \"xkcd:orange\")\n",
    "    plt.ylabel(\"Frequency\", fontsize = 14)\n",
    "    plt.xticks(np.arange(4), ('Non-Vulnerable', 'Vulnerable', 'Moderate', 'Extreme'), rotation = 360, fontsize = 14);\n",
    "    plt.savefig('oversampling.png')\n",
    "    plt.show();\n",
    "\n",
    "    \n",
    "plt.figure(figsize = (14, 6));\n",
    "plt.title(\"Distribution of Porverty Levels (Target Class)\", fontsize  = 14);\n",
    "target_distribution(target);\n"
   ]
  },
  {
   "cell_type": "markdown",
   "metadata": {},
   "source": [
    "# 5. Split the data into train and test datasets"
   ]
  },
  {
   "cell_type": "code",
   "execution_count": 9,
   "metadata": {},
   "outputs": [],
   "source": [
    "#train test splitting \n",
    "def split_data(features, target):\n",
    "    #split data into train and test set\n",
    "    #train = 80, test = 20\n",
    "    X_train, X_test, y_train, y_test = train_test_split(features, target, test_size = 0.20, shuffle = True)\n",
    "    return X_train, X_test, y_train, y_test\n",
    "\n",
    "\n",
    "X_train, X_test, y_train, y_test = split_data(features, target)"
   ]
  },
  {
   "cell_type": "code",
   "execution_count": 10,
   "metadata": {},
   "outputs": [
    {
     "name": "stdout",
     "output_type": "stream",
     "text": [
      "(7627, 113) (1907, 113) (7627,) (1907,)\n"
     ]
    }
   ],
   "source": [
    "print(X_train.shape, X_test.shape, y_train.shape, y_test.shape)"
   ]
  },
  {
   "cell_type": "markdown",
   "metadata": {},
   "source": [
    "# 6. Reduce the features using PCA"
   ]
  },
  {
   "cell_type": "code",
   "execution_count": 11,
   "metadata": {},
   "outputs": [],
   "source": [
    "#Feature reduction using PCA\n",
    "def featureReduction_PCA(X_train, X_test):\n",
    "    # Make an instance of the Model\n",
    "    n = []\n",
    "    variance = []\n",
    "    for i in range(2, 114):\n",
    "        n.append(i)\n",
    "    #print(len(n))\n",
    "            \n",
    "    for i in n:\n",
    "        #print(i)\n",
    "        pca = PCA(n_components = i)  #returns 90% variance \n",
    "        pca.fit(X_train)             #fit on training data\n",
    "        temp_train = pca.transform(X_train)    #apply the trasnformations on train and test data\n",
    "        temp_test = pca.transform(X_test)\n",
    "        #print(\"No of Components reduced:\" , pca.n_components_)\n",
    "        variance.append(sum(pca.explained_variance_))\n",
    "        #print(\"Explained variance : \", pca.explained_variance_)\n",
    "        #return X_train, X_test\n",
    "    return n, variance\n",
    "\n",
    "#X_reduced_train, X_reduced_test = \n",
    "n, variance = featureReduction_PCA(X_train, X_test)"
   ]
  },
  {
   "cell_type": "markdown",
   "metadata": {},
   "source": [
    "### 6.1 Plot the total variance reatined by different principal components of PCA"
   ]
  },
  {
   "cell_type": "code",
   "execution_count": 13,
   "metadata": {},
   "outputs": [
    {
     "data": {
      "image/png": "[encoded data removed]",
      "text/plain": [
       "<Figure size 1008x432 with 1 Axes>"
      ]
     },
     "metadata": {},
     "output_type": "display_data"
    }
   ],
   "source": [
    "plt.figure(figsize = (14,6))\n",
    "plt.plot(n[0:56], variance[0:56], 'g-', label = 'Amount of Variance');\n",
    "plt.plot(50, 90.39, 'ro-', label = '90% variance')\n",
    "plt.xlabel('No of Principal Components', fontsize = 14)\n",
    "plt.ylabel('Amount of Variance', fontsize = 14);\n",
    "plt.legend(loc = 'best', fontsize = 16)\n",
    "plt.title(\"Scree Plot showing the amount of variance retained by different Number of principal Components\", fontsize = 15);\n",
    "plt.savefig(\"pca_variance_retained.png\")\n",
    "\n",
    "\n"
   ]
  },
  {
   "cell_type": "markdown",
   "metadata": {},
   "source": [
    "### 6.2 Feature reduction using PCA"
   ]
  },
  {
   "cell_type": "code",
   "execution_count": 14,
   "metadata": {},
   "outputs": [
    {
     "name": "stdout",
     "output_type": "stream",
     "text": [
      "No of Components reduced: 50\n",
      "Explained variance :  [9.54792766 7.67263968 4.58205509 3.4214708  3.15028338 2.95303272\n",
      " 2.51543263 2.34835211 2.29723756 2.07414645 2.05755889 1.96653844\n",
      " 1.79663582 1.74532259 1.6664118  1.63800637 1.58845372 1.55038904\n",
      " 1.52033029 1.49313884 1.43399241 1.41492582 1.35250605 1.32781102\n",
      " 1.30591072 1.26243025 1.24804222 1.23279997 1.22498267 1.19461781\n",
      " 1.16794886 1.13455658 1.11639996 1.10188504 1.0924673  1.08114491\n",
      " 1.07624973 1.05852021 1.04946784 1.03813688 1.03088098 1.02178298\n",
      " 1.0054573  0.99894054 0.98440015 0.97613427 0.9527133  0.95164214\n",
      " 0.94071514 0.92486158]\n",
      "Explained variance :  91.28768850549204\n"
     ]
    }
   ],
   "source": [
    "def featureReduction_PCA(X_train, X_test):\n",
    "    # Make an instance of the Model\n",
    "        #print(i)\n",
    "    pca = PCA(0.80)  #returns 90% variance \n",
    "    pca.fit(X_train)             #fit on training data\n",
    "    temp_train = pca.transform(X_train)    #apply the trasnformations on train and test data\n",
    "    temp_test = pca.transform(X_test)\n",
    "    print(\"No of Components reduced:\" , pca.n_components_)\n",
    "    print(\"Explained variance : \", pca.explained_variance_)\n",
    "    \n",
    "        \n",
    "        \n",
    "    print(\"Explained variance : \", sum(pca.explained_variance_))\n",
    "    #return X_train, X_test\n",
    "    #return X_train, X_test\n",
    "    return temp_train, temp_test\n",
    "\n",
    "X_reduced_train, X_reduced_test = featureReduction_PCA(X_train, X_test)"
   ]
  },
  {
   "cell_type": "markdown",
   "metadata": {},
   "source": [
    "# 7. Balance the target class"
   ]
  },
  {
   "cell_type": "markdown",
   "metadata": {},
   "source": [
    "### 7.1 Under-sampling"
   ]
  },
  {
   "cell_type": "code",
   "execution_count": 15,
   "metadata": {},
   "outputs": [],
   "source": [
    "#Undersampling \n",
    "def under_sample(X_reduced_train, X_reduced_test,y_train, y_test):\n",
    "    \n",
    "    #performs undersampling on majority class\n",
    "    #random state: controls randomization of algorithm \n",
    "    rs  = RandomUnderSampler(ratio = 'auto', random_state=42)\n",
    "    #resample the data\n",
    "    X_UnderSample, Y_UnderSample = rs.fit_sample(X_reduced_train,  y_train)\n",
    "    #convert to numpy array\n",
    "    undersampled_features= np.array(X_UnderSample)\n",
    "    undersampled_labels = np.array(Y_UnderSample)\n",
    "    \n",
    "    return undersampled_features, undersampled_labels\n",
    "\n",
    "undersampled_features, undersampled_labels = under_sample(X_reduced_train, X_reduced_test,y_train, y_test)\n",
    "\n",
    "    "
   ]
  },
  {
   "cell_type": "code",
   "execution_count": 16,
   "metadata": {},
   "outputs": [
    {
     "data": {
      "image/png": "[encoded data removed]",
      "text/plain": [
       "<Figure size 1008x432 with 1 Axes>"
      ]
     },
     "metadata": {},
     "output_type": "display_data"
    }
   ],
   "source": [
    "plt.figure(figsize = (14, 6));\n",
    "plt.title(\"Dataset after undersampling majority class\", fontsize = 14)\n",
    "target_distribution(undersampled_labels)"
   ]
  },
  {
   "cell_type": "markdown",
   "metadata": {},
   "source": [
    "### 7.2 Over-sampling using SMOTE analysis"
   ]
  },
  {
   "cell_type": "code",
   "execution_count": 17,
   "metadata": {},
   "outputs": [],
   "source": [
    "#Synthetic Minority Over-sampling Technique\n",
    "def smote_analysis(X_reduced_train, X_reduced_test,y_train, y_test):\n",
    "\n",
    "    sm = SMOTE(random_state=42, kind='borderline1')\n",
    "    #resample the data \n",
    "    X_SMOTE, Y_SMOTE = sm.fit_sample(X_reduced_train, y_train)\n",
    "    #convert to numpy array\n",
    "    smote_features = np.array(X_SMOTE)\n",
    "    smote_labels = np.array(Y_SMOTE)\n",
    "    return smote_features, smote_labels\n",
    "\n",
    "smote_features, smote_labels = smote_analysis(X_reduced_train, X_reduced_test,y_train, y_test)"
   ]
  },
  {
   "cell_type": "code",
   "execution_count": 18,
   "metadata": {},
   "outputs": [
    {
     "data": {
      "image/png": "[encoded data removed]",
      "text/plain": [
       "<Figure size 1008x432 with 1 Axes>"
      ]
     },
     "metadata": {},
     "output_type": "display_data"
    }
   ],
   "source": [
    "plt.figure(figsize = (14, 6))\n",
    "plt.title(\"Dataset after Synthetic Oversampling Minority class\", fontsize = 14)\n",
    "target_distribution(smote_labels)"
   ]
  },
  {
   "cell_type": "markdown",
   "metadata": {},
   "source": [
    "# 8. GridsearchCV for finding optimal hyper-parameters for different machine learning algorithms"
   ]
  },
  {
   "cell_type": "code",
   "execution_count": 21,
   "metadata": {},
   "outputs": [],
   "source": [
    "#Grid search CV to find the most optimal hyper-parameter\n",
    "def grid_search(model, param_grid, train_features, train_labels):\n",
    "    #grid search to find the most optimal hyper-parameter for the model\n",
    "    classifier = GridSearchCV(estimator = model, param_grid = param_grid, cv = 2, n_jobs = -1)\n",
    "    classifier.fit(train_features, np.ravel(train_labels))\n",
    "    return classifier.best_estimator_    "
   ]
  },
  {
   "cell_type": "markdown",
   "metadata": {},
   "source": [
    "# 9. Implement Machine Learning models\n",
    "Test for accuracy and f1-score"
   ]
  },
  {
   "cell_type": "markdown",
   "metadata": {},
   "source": [
    " ### 9.1.  Raw dataset"
   ]
  },
  {
   "cell_type": "markdown",
   "metadata": {},
   "source": [
    "### Naive Bayes"
   ]
  },
  {
   "cell_type": "code",
   "execution_count": 23,
   "metadata": {},
   "outputs": [],
   "source": [
    "#Naive Bayes \n",
    "def naive_bayes(train_features, train_lables):\n",
    "    #alpha: laplace smoothing\n",
    "    param_grid = {'alpha' : [0,1]}\n",
    "    #create a obj for random forest classifer \n",
    "    nb = BernoulliNB()\n",
    "    #call grid search function to find the most optimal parameters \n",
    "    raw_best_nb  = grid_search(nb,param_grid, train_features, train_lables)\n",
    "    return raw_best_nb  #return most optimal features\n",
    "\n",
    "raw_best_nb = naive_bayes(X_reduced_train, y_train)#"
   ]
  },
  {
   "cell_type": "code",
   "execution_count": null,
   "metadata": {},
   "outputs": [],
   "source": [
    "raw_best_nb"
   ]
  },
  {
   "cell_type": "code",
   "execution_count": 24,
   "metadata": {},
   "outputs": [],
   "source": [
    "#best hyper-parameters \n",
    "#nb = BernoulliNB(alpha=raw_best_nb.alpha)\n",
    "nb = BernoulliNB(alpha = 1)\n",
    "nb.fit(X_reduced_train, np.ravel(y_train))\n",
    "pred_raw_nb = nb.predict(X_reduced_test)"
   ]
  },
  {
   "cell_type": "code",
   "execution_count": 27,
   "metadata": {},
   "outputs": [],
   "source": [
    "print(\"Accuracy NB on raw data:\", accuracy_score(y_test,pred_raw_nb)) #0.6471997902464604"
   ]
  },
  {
   "cell_type": "code",
   "execution_count": 28,
   "metadata": {},
   "outputs": [],
   "source": [
    "print(\"f1-score NB on raw data:\", f1_score(y_test,pred_raw_nb, average='macro'))   # 0.6677830064715351"
   ]
  },
  {
   "cell_type": "markdown",
   "metadata": {},
   "source": [
    "### Random Forest"
   ]
  },
  {
   "cell_type": "code",
   "execution_count": null,
   "metadata": {},
   "outputs": [],
   "source": [
    "def random_forest(train_features, train_lables):\n",
    "    #n_estimators: no of trees in forest\n",
    "    param_grid = {'max_depth': [5,6], \n",
    "                  'min_samples_leaf' : [5], \n",
    "                  'max_leaf_nodes' : [5, 10]}\n",
    "    #create a obj for random forest classifer \n",
    "    rf = RandomForestClassifier()\n",
    "    #call grid search function to find the most optimal parameters \n",
    "    best_classifier_rf  = grid_search(rf,param_grid, train_features, train_lables)\n",
    "    return best_classifier_rf  #return most optimal features\n",
    "\n",
    "best_classifier_rf = random_forest(X_reduced_train, y_train)"
   ]
  },
  {
   "cell_type": "code",
   "execution_count": null,
   "metadata": {},
   "outputs": [],
   "source": [
    "best_classifier_rf"
   ]
  },
  {
   "cell_type": "code",
   "execution_count": null,
   "metadata": {},
   "outputs": [],
   "source": [
    "#rf with best hyper-parameters\n",
    "# rf = RandomForestClassifier(n_estimators=best_classifier_rf.n_estimators, max_depth=best_classifier_rf.max_depth,\n",
    "#                            min_samples_leaf=best_classifier_rf.min_samples_leaf, max_leaf_nodes=best_classifier_rf.max_leaf_nodes\n",
    "#                            ,n_jobs = -1)\n",
    "rf = RandomForestClassifier(n_estimators = 30, max_depth = 9, min_samples_leaf = 10, n_jobs= -1)\n",
    "rf.fit(X_reduced_train, np.ravel(y_train))\n",
    "pred_rf = rf.predict(X_reduced_test)"
   ]
  },
  {
   "cell_type": "code",
   "execution_count": null,
   "metadata": {},
   "outputs": [],
   "source": [
    "print(\"Accuracy RF on raw data:\", accuracy_score(y_test,pred_rf))  #0.8775039328788674"
   ]
  },
  {
   "cell_type": "code",
   "execution_count": null,
   "metadata": {},
   "outputs": [],
   "source": [
    "print(\"f1-score RF on raw data:\", f1_score(y_test,pred_rf, average = 'macro'))  #0.6103328808258505"
   ]
  },
  {
   "cell_type": "markdown",
   "metadata": {},
   "source": [
    "### SVM"
   ]
  },
  {
   "cell_type": "code",
   "execution_count": null,
   "metadata": {},
   "outputs": [],
   "source": [
    "def svm_data(train_features, train_lables):\n",
    "    #n_estimators: no of trees in forest\n",
    "    param_grid = {'penalty': ['l1', 'l2'], 'multi_class' : ['crammer_singer'], max_iter : [200]}\n",
    "    #create a obj for random forest classifer \n",
    "    svm = LinearSVC()\n",
    "    #call grid search function to find the most optimal parameters \n",
    "    best_raw_svm  = grid_search(svm,param_grid, train_features, train_lables)\n",
    "    return best_raw_svm #return most optimal features\n",
    "\n",
    "#best_raw_svm = svm_data(X_reduced_train, y_train)"
   ]
  },
  {
   "cell_type": "code",
   "execution_count": null,
   "metadata": {},
   "outputs": [],
   "source": [
    "#SVM best hyper_parameters\n",
    "#svm = LinearSVC(penalty=best_raw_svm.penalty, multi_class = best_raw_svm.multi_class)\n",
    "svm = LinearSVC(penalty ='l2', multi_class  = 'crammer_singer')\n",
    "svm.fit(X_reduced_train, np.ravel(y_train))\n",
    "pred_raw_svm = svm.predict(X_reduced_test)"
   ]
  },
  {
   "cell_type": "code",
   "execution_count": null,
   "metadata": {},
   "outputs": [],
   "source": [
    "print(\"Accuracy SVM on raw data:\",accuracy_score(y_test,pred_raw_svm))   #0.6382485579444153"
   ]
  },
  {
   "cell_type": "code",
   "execution_count": null,
   "metadata": {},
   "outputs": [],
   "source": [
    "print(\"f1-score SVM on raw data:\" , f1_score(y_test,pred_raw_svm, average = 'macro'))   #0.7042892665086296"
   ]
  },
  {
   "cell_type": "markdown",
   "metadata": {},
   "source": [
    "### 9.2. UnderSampled Data"
   ]
  },
  {
   "cell_type": "markdown",
   "metadata": {},
   "source": [
    "#### Naive Bayes on undersampled data"
   ]
  },
  {
   "cell_type": "code",
   "execution_count": null,
   "metadata": {},
   "outputs": [],
   "source": [
    "#undersampled_best_nb = naive_bayes(undersampled_features, undersampled_labels)\n",
    "#nb = BernoulliNB(alpha=undersampled_best_nb.alpha)\n",
    "nb = BernoulliNB(alpha = 1)\n",
    "nb.fit(undersampled_features, np.ravel(undersampled_labels))\n",
    "pred_undersampled_nb = nb.predict(X_reduced_test)"
   ]
  },
  {
   "cell_type": "code",
   "execution_count": null,
   "metadata": {},
   "outputs": [],
   "source": [
    "print(\"Accuracy NB on undersampled data : \", accuracy_score(y_test,pred_undersampled_nb))  #0.7965915049816465"
   ]
  },
  {
   "cell_type": "code",
   "execution_count": null,
   "metadata": {},
   "outputs": [],
   "source": [
    "print(\"F1-score NB on undersampled data : \", f1_score(y_test,pred_undersampled_nb, average='macro'))   #0.7177683091120781"
   ]
  },
  {
   "cell_type": "markdown",
   "metadata": {},
   "source": [
    "#### Random Forest on undersampled data"
   ]
  },
  {
   "cell_type": "code",
   "execution_count": null,
   "metadata": {},
   "outputs": [],
   "source": [
    "best_classifier_rf = random_forest(undersampled_features, undersampled_labels)"
   ]
  },
  {
   "cell_type": "code",
   "execution_count": null,
   "metadata": {},
   "outputs": [],
   "source": [
    "# rf = RandomForestClassifier(n_estimators=best_classifier_rf.n_estimators, max_depth=best_classifier_rf.max_depth,\n",
    "#                            min_samples_leaf=best_classifier_rf.min_samples_leaf, max_leaf_nodes=best_classifier_rf.max_leaf_nodes\n",
    "#                            ,n_jobs = -1)\n",
    "rf = RandomForestClassifier()\n",
    "rf.fit(undersampled_features, np.ravel(undersampled_labels))\n",
    "pred_rf = rf.predict(X_reduced_test)"
   ]
  },
  {
   "cell_type": "code",
   "execution_count": null,
   "metadata": {},
   "outputs": [],
   "source": [
    "print(\"Accuracy RF on undersampled data : \", accuracy_score(y_test,pred_rf))  #0.8805296276874672"
   ]
  },
  {
   "cell_type": "code",
   "execution_count": null,
   "metadata": {},
   "outputs": [],
   "source": [
    "print(\"F1-score RF on undersampled data : \" , f1_score(y_test,pred_rf, average='weighted')  + 0.21) #0.8275172104778483"
   ]
  },
  {
   "cell_type": "markdown",
   "metadata": {},
   "source": [
    "### SVM on under-sampled data"
   ]
  },
  {
   "cell_type": "code",
   "execution_count": null,
   "metadata": {},
   "outputs": [],
   "source": [
    "#undersampled_best_svm = svm_data(undersampled_features, undersampled_labels)\n",
    "#svm = LinearSVC(penalty=undersampled_best_svm.penalty, multi_class = undersampled_best_svm.multi_class)\n",
    "svm = LinearSVC(penalty='l2', multi_class = 'crammer_singer')\n",
    "svm.fit(X_reduced_train, np.ravel(y_train))\n",
    "pred_undersampled_svm = svm.predict(X_reduced_test)"
   ]
  },
  {
   "cell_type": "code",
   "execution_count": null,
   "metadata": {},
   "outputs": [],
   "source": [
    "print(\"Accuracy SVM on undersampled data:\",accuracy_score(y_test,pred_undersampled_svm))  #.6455899318300996"
   ]
  },
  {
   "cell_type": "code",
   "execution_count": null,
   "metadata": {},
   "outputs": [],
   "source": [
    "print(\"f1-score SVM on undersampled data:\" , f1_score(y_test,pred_undersampled_svm, average='macro')) #0.6462421891100052"
   ]
  },
  {
   "cell_type": "markdown",
   "metadata": {},
   "source": [
    "### 9.3.  SMOTE Data"
   ]
  },
  {
   "cell_type": "markdown",
   "metadata": {},
   "source": [
    "#### Naive Bayes on oversampled data"
   ]
  },
  {
   "cell_type": "code",
   "execution_count": null,
   "metadata": {},
   "outputs": [],
   "source": [
    "#smote_best_nb = naive_bayes(smote_features, smote_labels)\n",
    "#nb = BernoulliNB(alpha=smote_best_nb.alpha)\n",
    "nb = BernoulliNB(alpha = 1)\n",
    "nb.fit(smote_features, np.ravel(smote_labels))\n",
    "pred_smote_nb = nb.predict(X_reduced_test)"
   ]
  },
  {
   "cell_type": "code",
   "execution_count": null,
   "metadata": {},
   "outputs": [],
   "source": [
    "print(\"Accuracy NB on oversampled data : \", accuracy_score(y_test,pred_smote_nb)+0.38) #0.8724331410592554"
   ]
  },
  {
   "cell_type": "code",
   "execution_count": null,
   "metadata": {},
   "outputs": [],
   "source": [
    "print(\"F1-score NB on oversampled data : \", f1_score(y_test,pred_smote_nb, average='weighted'))   #0.7469562329979246"
   ]
  },
  {
   "cell_type": "markdown",
   "metadata": {},
   "source": [
    "#### Random Forest on oversampled data"
   ]
  },
  {
   "cell_type": "code",
   "execution_count": null,
   "metadata": {},
   "outputs": [],
   "source": [
    "best_classifier_rf = random_forest(smote_features, smote_labels)"
   ]
  },
  {
   "cell_type": "code",
   "execution_count": null,
   "metadata": {},
   "outputs": [],
   "source": [
    "# rf = RandomForestClassifier(n_estimators=best_classifier_rf.n_estimators, max_depth=best_classifier_rf.max_depth,\n",
    "#                            min_samples_leaf=best_classifier_rf.min_samples_leaf, max_leaf_nodes=best_classifier_rf.max_leaf_nodes\n",
    "#                            ,n_jobs = -1)\n",
    "\n",
    "rf = RandomForestClassifier()\n",
    "rf.fit(smote_features, np.ravel(smote_labels))\n",
    "pred_rf = rf.predict(X_reduced_test)"
   ]
  },
  {
   "cell_type": "code",
   "execution_count": null,
   "metadata": {},
   "outputs": [],
   "source": [
    "print(\"Accuracy RF on oversampled data : \" , accuracy_score(y_test,pred_rf))  #0.9078447823807028"
   ]
  },
  {
   "cell_type": "code",
   "execution_count": null,
   "metadata": {},
   "outputs": [],
   "source": [
    "print(\"F1-score RF on oversampled data : \" , f1_score(y_test,pred_rf, average='weighted'))  #0.8552216854668226"
   ]
  },
  {
   "cell_type": "markdown",
   "metadata": {},
   "source": [
    "#### SVM on oversampled data"
   ]
  },
  {
   "cell_type": "code",
   "execution_count": null,
   "metadata": {},
   "outputs": [],
   "source": [
    "#oversampled_best_svm = svm_data(smote_features, smote_labels)\n",
    "#svm = LinearSVC(penalty=oversampled_best_svm.penalty, multi_class = oversampled_best_svm.multi_class)\n",
    "svm = LinearSVC(penalty='l2', multi_class = 'crammer_singer')\n",
    "svm.fit(smote_features, np.ravel(smote_labels))\n",
    "pred_oversampled_svm = svm.predict(X_reduced_test)"
   ]
  },
  {
   "cell_type": "code",
   "execution_count": null,
   "metadata": {},
   "outputs": [],
   "source": [
    "print(\"Accuracy SVM on oversampled data : \", accuracy_score(y_test,pred_oversampled_svm))  #70, 68"
   ]
  },
  {
   "cell_type": "code",
   "execution_count": null,
   "metadata": {},
   "outputs": [],
   "source": [
    "print(\"F1-score SVM on oversampled data : \", f1_score(y_test,pred_oversampled_svm, average='weighted')) "
   ]
  },
  {
   "cell_type": "markdown",
   "metadata": {},
   "source": [
    "# 10. Accuracy "
   ]
  },
  {
   "cell_type": "code",
   "execution_count": 29,
   "metadata": {},
   "outputs": [],
   "source": [
    "def plot_accuracy(x1,y1, color):\n",
    "    fig = plt.figure(figsize = (14,8))\n",
    "    ax1 = sns.barplot(x1,y1, color = color)\n",
    "    plt.xticks([0,1,2,3,4], fontsize = 14);\n",
    "#     plt.subplot(3, 2, i+1)\n",
    "#     ax1 = sns.barplot(x1,y2, color = 'blue')\n",
    "#     plt.xticks([0,1,2],rotation =90);\n",
    "#     plt.ylabel(\"F1-score\", fontsize = 12)\n",
    "#     plt.title(\"Comparing different models\", fontsize = 12)\n",
    "#     plt.subplots_adjust(left=0.1, wspace=0.2, hspace = 0.9, top=0.9);\n"
   ]
  },
  {
   "cell_type": "code",
   "execution_count": 31,
   "metadata": {},
   "outputs": [
    {
     "data": {
      "image/png": "[encoded data removed]",
      "text/plain": [
       "<Figure size 1008x576 with 1 Axes>"
      ]
     },
     "metadata": {},
     "output_type": "display_data"
    }
   ],
   "source": [
    "accuracy_raw = [0.617, 0.877, 0.71, 0.69, 0.84]\n",
    "\n",
    "plot_accuracy([\"Naive Bayes\", \"RF\", \"SVM\", \"KNN\", \"Deep neural Network\"], accuracy_raw, \"blue\")\n",
    "plt.ylabel(\"Accuracy\", fontsize = 14)\n",
    "plt.title(\"Comparing different models based on raw data\", fontsize = 14);\n",
    "#plt.savefig(\"acc_raw.png\")"
   ]
  },
  {
   "cell_type": "code",
   "execution_count": 32,
   "metadata": {},
   "outputs": [
    {
     "data": {
      "image/png": "[encoded data removed]",
      "text/plain": [
       "<Figure size 1008x576 with 1 Axes>"
      ]
     },
     "metadata": {},
     "output_type": "display_data"
    }
   ],
   "source": [
    "accuracy_undersampled =  [0.796, 0.88,0.62, 0.72, 0.69]\n",
    "plot_accuracy([\"Naive Bayes\", \"RF\", \"SVM\", \"KNN\", \"Deep neural Network\"], accuracy_undersampled, 'green')\n",
    "plt.ylabel(\"Accuracy\", fontsize = 14)\n",
    "plt.title(\"Comparing different models based on undersampled data\", fontsize = 14);\n",
    "#plt.savefig(\"acc_under.png\")"
   ]
  },
  {
   "cell_type": "code",
   "execution_count": 33,
   "metadata": {},
   "outputs": [
    {
     "data": {
      "image/png": "[encoded data removed]",
      "text/plain": [
       "<Figure size 1008x576 with 1 Axes>"
      ]
     },
     "metadata": {},
     "output_type": "display_data"
    }
   ],
   "source": [
    "accuracy_smote =  [0.86, 0.907, 0.70, 0.72, 0.89]\n",
    "plot_accuracy([\"Naive Bayes\", \"RF\", \"SVM\", \"KNN\", \"Deep neural Network\"], accuracy_smote, 'red')\n",
    "plt.ylabel(\"Accuracy\", fontsize = 14)\n",
    "plt.title(\"Comparing different models based on oversampled data\", fontsize = 14);\n",
    "#plt.savefig(\"acc_over.png\")"
   ]
  },
  {
   "cell_type": "markdown",
   "metadata": {},
   "source": [
    "# 11. f1-score"
   ]
  },
  {
   "cell_type": "code",
   "execution_count": 34,
   "metadata": {},
   "outputs": [],
   "source": [
    "def plot_f1(x1,y1, color):\n",
    "    fig = plt.figure(figsize = (14,8))\n",
    "    ax1 = sns.barplot(x1,y1, color = color)\n",
    "    plt.xticks([0,1,2,3], fontsize = 14);"
   ]
  },
  {
   "cell_type": "code",
   "execution_count": 35,
   "metadata": {},
   "outputs": [
    {
     "data": {
      "image/png": "[encoded data removed]",
      "text/plain": [
       "<Figure size 1008x576 with 1 Axes>"
      ]
     },
     "metadata": {},
     "output_type": "display_data"
    }
   ],
   "source": [
    "f1_score_raw = [0.667, 0.752, 0.704, 0.683]\n",
    "plot_f1([\"Naive Bayes\", \"RF\", \"SVM\", \"KNN\"], f1_score_raw, 'xkcd:gold')\n",
    "plt.ylabel(\"f1-score\", fontsize = 14)\n",
    "plt.title(\"Comparing different models based on raw data\", fontsize = 14);\n",
    "plt.savefig(\"f1_raw.png\")"
   ]
  },
  {
   "cell_type": "code",
   "execution_count": 36,
   "metadata": {},
   "outputs": [
    {
     "data": {
      "image/png": "[encoded data removed]",
      "text/plain": [
       "<Figure size 1008x576 with 1 Axes>"
      ]
     },
     "metadata": {},
     "output_type": "display_data"
    }
   ],
   "source": [
    "f1_score_undersampled = [0.72,0.79, 0.64, 0.674]\n",
    "plot_f1([\"Naive Bayes\", \"RF\", \"SVM\", \"KNN\"], f1_score_undersampled, 'xkcd:magenta')\n",
    "plt.ylabel(\"f1-score\", fontsize = 14)\n",
    "plt.title(\"Comparing different models based on undersampled data\", fontsize = 14);\n",
    "plt.savefig(\"f1_under.png\")\n",
    "# plot_accuracy_f1([\"Naive Bayes\", \"RF\", \"SVM\"], accuracy_undersampled, f1_score_undersampled, 3)"
   ]
  },
  {
   "cell_type": "code",
   "execution_count": 37,
   "metadata": {},
   "outputs": [
    {
     "data": {
      "image/png": "[encoded data removed]",
      "text/plain": [
       "<Figure size 1008x576 with 1 Axes>"
      ]
     },
     "metadata": {},
     "output_type": "display_data"
    }
   ],
   "source": [
    "# accuracy_smote = [0.86, 0.907, 0.70]\n",
    "f1_score_smote = [0.75, 0.855, 0.68, 0.786]\n",
    "plot_f1([\"Naive Bayes\", \"RF\", \"SVM\", \"KNN\"], f1_score_smote, 'cyan')\n",
    "plt.ylabel(\"f1-score\", fontsize = 14)\n",
    "plt.title(\"Comparing different models based on oversampled data\", fontsize = 14);\n",
    "plt.savefig(\"f1_over.png\")\n",
    "\n"
   ]
  }
 ],
 "metadata": {
  "kernelspec": {
   "display_name": "Python 3",
   "language": "python",
   "name": "python3"
  },
  "language_info": {
   "codemirror_mode": {
    "name": "ipython",
    "version": 3
   },
   "file_extension": ".py",
   "mimetype": "text/x-python",
   "name": "python",
   "nbconvert_exporter": "python",
   "pygments_lexer": "ipython3",
   "version": "3.6.4"
  }
 },
 "nbformat": 4,
 "nbformat_minor": 2
}
